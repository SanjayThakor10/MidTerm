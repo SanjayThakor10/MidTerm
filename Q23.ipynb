{
 "cells": [
  {
   "cell_type": "code",
   "execution_count": 5,
   "id": "73e30c6f-cf42-4dd7-aff9-7d0fdac1fdf0",
   "metadata": {},
   "outputs": [
    {
     "name": "stdout",
     "output_type": "stream",
     "text": [
      "\n",
      "*\n",
      "\n",
      "*\n",
      "**\n",
      " *\n",
      "\n",
      "*\n",
      "**\n",
      " *\n",
      "****\n",
      " *\n",
      " **\n",
      "  *\n",
      "\n"
     ]
    }
   ],
   "source": [
    "def f(indent, num):\n",
    "    if num > 0:\n",
    "        f(indent, num // 2)\n",
    "        print(\" \" * indent + \"*\" * num)\n",
    "        f(indent + 1, num // 2)\n",
    "\n",
    "f(0, 0)\n",
    "print()\n",
    "\n",
    "f(0, 1)\n",
    "print()\n",
    "\n",
    "f(0, 2)\n",
    "print()\n",
    "\n",
    "f(0, 4)\n",
    "print()\n",
    "\n"
   ]
  },
  {
   "cell_type": "code",
   "execution_count": null,
   "id": "035c1a2e-cdc9-4031-b9f4-04dc5867b330",
   "metadata": {},
   "outputs": [],
   "source": []
  }
 ],
 "metadata": {
  "kernelspec": {
   "display_name": "Python 3 (ipykernel)",
   "language": "python",
   "name": "python3"
  },
  "language_info": {
   "codemirror_mode": {
    "name": "ipython",
    "version": 3
   },
   "file_extension": ".py",
   "mimetype": "text/x-python",
   "name": "python",
   "nbconvert_exporter": "python",
   "pygments_lexer": "ipython3",
   "version": "3.12.4"
  }
 },
 "nbformat": 4,
 "nbformat_minor": 5
}
