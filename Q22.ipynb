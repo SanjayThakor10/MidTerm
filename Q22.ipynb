{
 "cells": [
  {
   "cell_type": "code",
   "execution_count": 3,
   "id": "11af54d7-ea28-458d-a222-7fa6a50e0ae4",
   "metadata": {},
   "outputs": [
    {
     "data": {
      "text/html": [
       "<div>\n",
       "<style scoped>\n",
       "    .dataframe tbody tr th:only-of-type {\n",
       "        vertical-align: middle;\n",
       "    }\n",
       "\n",
       "    .dataframe tbody tr th {\n",
       "        vertical-align: top;\n",
       "    }\n",
       "\n",
       "    .dataframe thead th {\n",
       "        text-align: right;\n",
       "    }\n",
       "</style>\n",
       "<table border=\"1\" class=\"dataframe\">\n",
       "  <thead>\n",
       "    <tr style=\"text-align: right;\">\n",
       "      <th></th>\n",
       "      <th>id</th>\n",
       "    </tr>\n",
       "  </thead>\n",
       "  <tbody>\n",
       "    <tr>\n",
       "      <th>0</th>\n",
       "      <td>2</td>\n",
       "    </tr>\n",
       "    <tr>\n",
       "      <th>1</th>\n",
       "      <td>4</td>\n",
       "    </tr>\n",
       "  </tbody>\n",
       "</table>\n",
       "</div>"
      ],
      "text/plain": [
       "   id\n",
       "0   2\n",
       "1   4"
      ]
     },
     "execution_count": 3,
     "metadata": {},
     "output_type": "execute_result"
    }
   ],
   "source": [
    "import sqlite3\n",
    "import pandas as pd\n",
    "\n",
    "conn = sqlite3.connect('weather_new.db')\n",
    "\n",
    "conn.execute(\"DROP TABLE IF EXISTS Weather;\")\n",
    "\n",
    "create_table_query = \"\"\"\n",
    "CREATE TABLE Weather (\n",
    "    id INTEGER PRIMARY KEY,\n",
    "    recordDate DATE,\n",
    "    temperature INTEGER\n",
    ");\n",
    "\"\"\"\n",
    "conn.execute(create_table_query)\n",
    "\n",
    "insert_data_query = \"\"\"\n",
    "INSERT INTO Weather (id, recordDate, temperature) VALUES\n",
    "(1, '2015-01-01', 10),\n",
    "(2, '2015-01-02', 25),\n",
    "(3, '2015-01-03', 20),\n",
    "(4, '2015-01-04', 30);\n",
    "\"\"\"\n",
    "conn.execute(insert_data_query)\n",
    "conn.commit()\n",
    "\n",
    "sql_query = \"\"\"\n",
    "SELECT w1.id\n",
    "FROM Weather w1\n",
    "JOIN Weather w2 ON DATE(w1.recordDate, '-1 day') = w2.recordDate\n",
    "WHERE w1.temperature > w2.temperature;\n",
    "\"\"\"\n",
    "\n",
    "higher_temps = pd.read_sql_query(sql_query, conn)\n",
    "conn.close()\n",
    "\n",
    "higher_temps\n"
   ]
  },
  {
   "cell_type": "code",
   "execution_count": null,
   "id": "cc3e97a6-afbb-47f1-accb-5ebffd777172",
   "metadata": {},
   "outputs": [],
   "source": []
  }
 ],
 "metadata": {
  "kernelspec": {
   "display_name": "Python 3 (ipykernel)",
   "language": "python",
   "name": "python3"
  },
  "language_info": {
   "codemirror_mode": {
    "name": "ipython",
    "version": 3
   },
   "file_extension": ".py",
   "mimetype": "text/x-python",
   "name": "python",
   "nbconvert_exporter": "python",
   "pygments_lexer": "ipython3",
   "version": "3.12.4"
  }
 },
 "nbformat": 4,
 "nbformat_minor": 5
}
